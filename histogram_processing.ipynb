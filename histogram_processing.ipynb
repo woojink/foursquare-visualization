{
 "cells": [
  {
   "cell_type": "markdown",
   "metadata": {},
   "source": [
    "# Hourly check-in histogram heights\n",
    "For the main histogram"
   ]
  },
  {
   "cell_type": "code",
   "execution_count": 7,
   "metadata": {
    "collapsed": false
   },
   "outputs": [],
   "source": [
    "import pandas as pd\n",
    "import sqlite3\n",
    "from datetime import datetime, date, time, timedelta\n",
    "\n",
    "# Set up connection to the SQLite database\n",
    "connection = sqlite3.connect('foursquare_checkins.db')\n",
    "\n",
    "# Print all tables\n",
    "all_tables = pd.read_sql(\"SELECT name FROM sqlite_master WHERE type = 'table'\", connection)\n",
    "\n",
    "# Print information about 'docs' table\n",
    "docs = pd.read_sql(\"SELECT * FROM %s\" % (\"checkins\"), connection)\n",
    "\n",
    "months = range(1,13)\n",
    "days = range(0,7)\n",
    "hours = range(0,24)\n",
    "\n",
    "# Initialize with zeros\n",
    "hist = {}\n",
    "for month in months:\n",
    "    hist[month] = {}\n",
    "    for day in days:\n",
    "        hist[month][day] = {}\n",
    "        for hour in hours:\n",
    "            hist[month][day][hour] = 0\n",
    "\n",
    "for i in range(len(docs)):\n",
    "    checkin_datetime_raw = docs.time[i]\n",
    "    time_offset = docs.time_offset[i]\n",
    "\n",
    "    # Remove the decimal seconds\n",
    "    checkin_datetime_raw = checkin_datetime_raw.split(\".\")[0].split(\" \")\n",
    "\n",
    "    # Interpret datetimes\n",
    "    checkin_date = checkin_datetime_raw[0].split(\"-\")\n",
    "    checkin_time = checkin_datetime_raw[1].split(\":\")\n",
    "    \n",
    "    # Convert to actual datetime\n",
    "    checkin_datetime = datetime(int(checkin_date[0]), int(checkin_date[1]), \n",
    "                                int(checkin_date[2]), int(checkin_time[0]), int(checkin_time[1])) \\\n",
    "                        + timedelta(minutes = time_offset)\n",
    "\n",
    "    w = checkin_datetime.weekday()\n",
    "    m = checkin_datetime.month\n",
    "    h = checkin_datetime.hour\n",
    "    \n",
    "    hist[m][w][h] += 1\n",
    "\n",
    "# Clean up connection to the database\n",
    "connection.close()"
   ]
  },
  {
   "cell_type": "code",
   "execution_count": null,
   "metadata": {
    "collapsed": false
   },
   "outputs": [],
   "source": [
    "import matplotlib.pyplot as plt\n",
    "%matplotlib inline\n",
    "\n",
    "plt.style.use('fivethirtyeight')\n",
    "\n",
    "x = range(0,24,1)\n",
    "y = [0]*24\n",
    "\n",
    "# Combine all the days into one\n",
    "for day in range(0,7):\n",
    "    for hour in hist[10][day]:\n",
    "        y[hour] = y[hour] + hist[10][day][hour]['count']\n",
    "#         y.append(hist[10][day][hour]['count'])\n",
    "\n",
    "fig, ax = plt.subplots()\n",
    "ax = plt.subplot(111)\n",
    "ax.bar(x, y, width=1)\n",
    "plt.show()\n",
    "# plt.close('all')\n"
   ]
  },
  {
   "cell_type": "code",
   "execution_count": 8,
   "metadata": {
    "collapsed": false
   },
   "outputs": [],
   "source": [
    "import csv\n",
    "cols = [\"Month\", \"Day\", \"Hour\", \"Count\"]\n",
    "f = open('data/checkins_hourly.csv', 'wb')\n",
    "csv_write_object = csv.DictWriter(f , fieldnames=cols)\n",
    "csv_write_object.writeheader()\n",
    "\n",
    "for month, weekday_dict in hist.items():\n",
    "    for weekday, hour_dict in weekday_dict.items():\n",
    "        for hour, count in hour_dict.items():\n",
    "            csv_write_object.writerow({\"Month\": month, \"Day\": weekday, \"Hour\": hour, \"Count\": count})\n",
    "f.close()"
   ]
  },
  {
   "cell_type": "markdown",
   "metadata": {},
   "source": [
    "# Half Hourly Checkins"
   ]
  },
  {
   "cell_type": "code",
   "execution_count": null,
   "metadata": {
    "collapsed": true
   },
   "outputs": [],
   "source": [
    "import pandas as pd\n",
    "import sqlite3\n",
    "from datetime import datetime, date, time, timedelta\n",
    "\n",
    "# Set up connection to the SQLite database\n",
    "connection = sqlite3.connect('foursquare_checkins.db')\n",
    "\n",
    "# Print all tables\n",
    "all_tables = pd.read_sql(\"SELECT name FROM sqlite_master WHERE type = 'table'\", connection)\n",
    "\n",
    "# Print information about 'docs' table\n",
    "docs = pd.read_sql(\"SELECT * FROM %s\" % (\"checkins\"), connection)\n",
    "\n",
    "hist1 = {}\n",
    "for i in range(len(docs)):\n",
    "    checkin_datetime_raw = docs.time[i]\n",
    "    time_offset = docs.time_offset[i]\n",
    "\n",
    "    # Remove the decimal seconds\n",
    "    checkin_datetime_raw = checkin_datetime_raw.split(\".\")[0].split(\" \")\n",
    "\n",
    "    # Interpret datetimes\n",
    "    checkin_date = checkin_datetime_raw[0].split(\"-\")\n",
    "    checkin_time = checkin_datetime_raw[1].split(\":\")\n",
    "    \n",
    "    # Convert to actual datetime\n",
    "    checkin_datetime = datetime(int(checkin_date[0]), int(checkin_date[1]), \n",
    "                                int(checkin_date[2]), int(checkin_time[0]), int(checkin_time[1])) \\\n",
    "                        + timedelta(minutes = time_offset)\n",
    "\n",
    "    w = checkin_datetime.weekday()\n",
    "    m = checkin_datetime.month\n",
    "    h = checkin_datetime.hour\n",
    "    minute = checkin_datetime.minute\n",
    "    if m not in hist1:\n",
    "        hist1[m] = {}\n",
    "    if w not in hist1[m]:\n",
    "        hist1[m][w] = {}\n",
    "    if h not in hist1[m][w]:\n",
    "        hist1[m][w][h] = {}\n",
    "    if minute < 30 and 0 not in hist1[m][w][h]:\n",
    "            hist1[m][w][h][0] = {}\n",
    "            hist1[m][w][h][0] = 0\n",
    "    if minute >= 30 and 1 not in hist1[m][w][h]:\n",
    "            hist1[m][w][h][1] = {}\n",
    "            hist1[m][w][h][1] = 0    \n",
    "    if minute < 30:\n",
    "        hist1[m][w][h][0] += 1\n",
    "    else:\n",
    "        hist1[m][w][h][1] += 1\n",
    "\n",
    "# Clean up connection to the database\n",
    "connection.close()"
   ]
  },
  {
   "cell_type": "code",
   "execution_count": null,
   "metadata": {
    "collapsed": true
   },
   "outputs": [],
   "source": [
    "import csv\n",
    "cols = [\"Month\", \"Day\", \"Hour\", \"Minute\", \"Count\"]\n",
    "f = open('data/checkins_half-hourly.csv', 'w')\n",
    "csv_write_object = csv.DictWriter(f, fieldnames=cols)\n",
    "csv_write_object.writeheader()\n",
    "\n",
    "for month, monthitem in hist1.items():\n",
    "    for weekday, weekdayitem in monthitem.items():\n",
    "        for hour, houritem in weekdayitem.items():\n",
    "            for minute, count in houritem.items():\n",
    "                csv_write_object.writerow({\"Month\": month, \"Day\": weekday, \"Hour\": hour, \"Minute\": minute, \"Count\": count})\n",
    "f.close()"
   ]
  },
  {
   "cell_type": "markdown",
   "metadata": {},
   "source": [
    "# Histogram by Category\n",
    "For small multiples"
   ]
  },
  {
   "cell_type": "code",
   "execution_count": 9,
   "metadata": {
    "collapsed": false
   },
   "outputs": [],
   "source": [
    "import pandas as pd\n",
    "import sqlite3\n",
    "from datetime import datetime, date, time, timedelta\n",
    "\n",
    "# Set up connection to the SQLite database\n",
    "connection = sqlite3.connect('foursquare_checkins.db')\n",
    "\n",
    "# Print all tables\n",
    "all_tables = pd.read_sql(\"SELECT name FROM sqlite_master WHERE type = 'table'\", connection)\n",
    "\n",
    "# Print information about 'docs' table\n",
    "docs = pd.read_sql(\"SELECT * FROM %s\" % (\"checkins\"), connection)\n",
    "\n",
    "hours = range(0,24)\n",
    "hist_c = {}\n",
    "\n",
    "for i in range(len(docs)):\n",
    "    checkin_datetime_raw = docs.time[i]\n",
    "    time_offset = docs.time_offset[i]\n",
    "    category = docs.cat_name[i]\n",
    "\n",
    "    # Remove the decimal seconds\n",
    "    checkin_datetime_raw = checkin_datetime_raw.split(\".\")[0].split(\" \")\n",
    "\n",
    "    # Interpret datetimes\n",
    "    checkin_date = checkin_datetime_raw[0].split(\"-\")\n",
    "    checkin_time = checkin_datetime_raw[1].split(\":\")\n",
    "    \n",
    "    # Convert to actual datetime\n",
    "    checkin_datetime = datetime(int(checkin_date[0]), int(checkin_date[1]), \n",
    "                                int(checkin_date[2]), int(checkin_time[0]), int(checkin_time[1])) \\\n",
    "                        + timedelta(minutes = time_offset)\n",
    "\n",
    "#     w = checkin_datetime.weekday()\n",
    "#     m = checkin_datetime.month\n",
    "    h = checkin_datetime.hour\n",
    "    \n",
    "    if category not in hist_c:\n",
    "        hist_c[category] = {}\n",
    "        for hour in hours:\n",
    "            hist_c[category][hour] = 0\n",
    "\n",
    "    hist_c[category][h] += 1\n",
    "\n",
    "# Clean up connection to the database\n",
    "connection.close()"
   ]
  },
  {
   "cell_type": "code",
   "execution_count": 11,
   "metadata": {
    "collapsed": false,
    "scrolled": false
   },
   "outputs": [],
   "source": [
    "import csv\n",
    "cols = [\"Category\", \"Hour\", \"Count\"]\n",
    "f = open('data/checkins_category.csv', 'wb')\n",
    "csv_write_object = csv.DictWriter(f, fieldnames=cols)\n",
    "csv_write_object.writeheader()\n",
    "\n",
    "for category, category_dict in hist_c.items():\n",
    "    for hour, count in category_dict.items():\n",
    "        csv_write_object.writerow({\"Category\": category, \"Hour\": hour, \"Count\": count})\n",
    "f.close()"
   ]
  },
  {
   "cell_type": "markdown",
   "metadata": {},
   "source": [
    "# Histogram by Day"
   ]
  },
  {
   "cell_type": "code",
   "execution_count": 16,
   "metadata": {
    "collapsed": false
   },
   "outputs": [],
   "source": [
    "import pandas as pd\n",
    "import sqlite3\n",
    "from datetime import datetime, date, time, timedelta\n",
    "\n",
    "# Set up connection to the SQLite database\n",
    "connection = sqlite3.connect('foursquare_checkins.db')\n",
    "\n",
    "# Print all tables\n",
    "all_tables = pd.read_sql(\"SELECT name FROM sqlite_master WHERE type = 'table'\", connection)\n",
    "\n",
    "# Print information about 'docs' table\n",
    "docs = pd.read_sql(\"SELECT * FROM %s\" % (\"checkins\"), connection)\n",
    "\n",
    "days = range(0,7)\n",
    "hours = range(0,24)\n",
    "\n",
    "# Initialize with zeros\n",
    "hist_d = {}\n",
    "for day in days:\n",
    "    hist_d[day] = {}\n",
    "    for hour in hours:\n",
    "        hist_d[day][hour] = 0\n",
    "\n",
    "for i in range(len(docs)):\n",
    "    checkin_datetime_raw = docs.time[i]\n",
    "    time_offset = docs.time_offset[i]\n",
    "\n",
    "    # Remove the decimal seconds\n",
    "    checkin_datetime_raw = checkin_datetime_raw.split(\".\")[0].split(\" \")\n",
    "\n",
    "    # Interpret datetimes\n",
    "    checkin_date = checkin_datetime_raw[0].split(\"-\")\n",
    "    checkin_time = checkin_datetime_raw[1].split(\":\")\n",
    "    \n",
    "    # Convert to actual datetime\n",
    "    checkin_datetime = datetime(int(checkin_date[0]), int(checkin_date[1]), \n",
    "                                int(checkin_date[2]), int(checkin_time[0]), int(checkin_time[1])) \\\n",
    "                        + timedelta(minutes = time_offset)\n",
    "\n",
    "    w = checkin_datetime.weekday()\n",
    "    h = checkin_datetime.hour\n",
    "    \n",
    "    hist_d[w][h] += 1\n",
    "\n",
    "# Clean up connection to the database\n",
    "connection.close()"
   ]
  },
  {
   "cell_type": "code",
   "execution_count": 17,
   "metadata": {
    "collapsed": false
   },
   "outputs": [],
   "source": [
    "import csv\n",
    "cols = [\"Day\", \"Hour\", \"Count\"]\n",
    "f = open('data/checkins_day_halfhour.csv', 'wb')\n",
    "csv_write_object = csv.DictWriter(f, fieldnames=cols)\n",
    "csv_write_object.writeheader()\n",
    "\n",
    "for day, day_dict in hist_d.items():\n",
    "    for hour, count in day_dict.items():\n",
    "        csv_write_object.writerow({\"Day\": day, \"Hour\": hour, \"Count\": count})\n",
    "f.close()"
   ]
  },
  {
   "cell_type": "markdown",
   "metadata": {},
   "source": [
    "# Histogram by Month"
   ]
  },
  {
   "cell_type": "code",
   "execution_count": 1,
   "metadata": {
    "collapsed": true
   },
   "outputs": [],
   "source": [
    "import pandas as pd\n",
    "import sqlite3\n",
    "from datetime import datetime, date, time, timedelta\n",
    "\n",
    "# Set up connection to the SQLite database\n",
    "connection = sqlite3.connect('foursquare_checkins.db')\n",
    "\n",
    "# Print all tables\n",
    "all_tables = pd.read_sql(\"SELECT name FROM sqlite_master WHERE type = 'table'\", connection)\n",
    "\n",
    "# Print information about 'docs' table\n",
    "docs = pd.read_sql(\"SELECT * FROM %s\" % (\"checkins\"), connection)\n",
    "\n",
    "months = range(1,13)\n",
    "hours = range(0,24)\n",
    "\n",
    "# Initialize with zeros\n",
    "hist_m = {}\n",
    "for month in months:\n",
    "    hist_m[month] = {}\n",
    "    for hour in hours:\n",
    "        hist_m[month][hour] = 0\n",
    "\n",
    "for i in range(len(docs)):\n",
    "    checkin_datetime_raw = docs.time[i]\n",
    "    time_offset = docs.time_offset[i]\n",
    "\n",
    "    # Remove the decimal seconds\n",
    "    checkin_datetime_raw = checkin_datetime_raw.split(\".\")[0].split(\" \")\n",
    "\n",
    "    # Interpret datetimes\n",
    "    checkin_date = checkin_datetime_raw[0].split(\"-\")\n",
    "    checkin_time = checkin_datetime_raw[1].split(\":\")\n",
    "    \n",
    "    # Convert to actual datetime\n",
    "    checkin_datetime = datetime(int(checkin_date[0]), int(checkin_date[1]), \n",
    "                                int(checkin_date[2]), int(checkin_time[0]), int(checkin_time[1])) \\\n",
    "                        + timedelta(minutes = time_offset)\n",
    "\n",
    "    m = checkin_datetime.month\n",
    "    h = checkin_datetime.hour\n",
    "    \n",
    "    hist_m[m][h] += 1\n",
    "\n",
    "# Clean up connection to the database\n",
    "connection.close()"
   ]
  },
  {
   "cell_type": "code",
   "execution_count": 3,
   "metadata": {
    "collapsed": false
   },
   "outputs": [],
   "source": [
    "import csv\n",
    "cols = [\"Month\", \"Hour\", \"Count\"]\n",
    "f = open('data/checkins_month.csv', 'wb')\n",
    "csv_write_object = csv.DictWriter(f, fieldnames=cols)\n",
    "csv_write_object.writeheader()\n",
    "\n",
    "for month, month_dict in hist_m.items():\n",
    "    for hour, count in month_dict.items():\n",
    "        csv_write_object.writerow({\"Month\": month, \"Hour\": hour, \"Count\": count})\n",
    "f.close()"
   ]
  },
  {
   "cell_type": "markdown",
   "metadata": {
    "collapsed": true
   },
   "source": [
    "# Collapse all days into one day\n",
    "For CartoDB Torque visualization"
   ]
  },
  {
   "cell_type": "code",
   "execution_count": 1,
   "metadata": {
    "collapsed": true
   },
   "outputs": [],
   "source": [
    "import pandas as pd\n",
    "import sqlite3\n",
    "from datetime import datetime, date, time, timedelta\n",
    "import csv\n",
    "\n",
    "# Set up connection to the SQLite database\n",
    "connection = sqlite3.connect('foursquare_checkins.db')\n",
    "\n",
    "# Print all tables\n",
    "all_tables = pd.read_sql(\"SELECT name FROM sqlite_master WHERE type = 'table'\", connection)\n",
    "\n",
    "# Print information about 'docs' table\n",
    "docs = pd.read_sql(\"SELECT * FROM %s\" % (\"checkins\"), connection)\n",
    "# print(list(docs.columns.values))\n",
    "hours = range(0,24)\n",
    "\n",
    "cols = [\"Time\", \"latitude\", \"longitude\"]\n",
    "f = open('HourlyCollapse_.csv', 'wb')\n",
    "csv_write_object = csv.DictWriter(f, fieldnames=cols)\n",
    "csv_write_object.writeheader()\n",
    "\n",
    "for i in range(len(docs)):\n",
    "    checkin_datetime_raw = docs.time[i]\n",
    "    time_offset = docs.time_offset[i]\n",
    "\n",
    "    # Remove the decimal seconds\n",
    "    checkin_datetime_raw = checkin_datetime_raw.split(\".\")[0].split(\" \")\n",
    "\n",
    "    # Interpret datetimes\n",
    "    checkin_date = checkin_datetime_raw[0].split(\"-\")\n",
    "    checkin_time = checkin_datetime_raw[1].split(\":\")\n",
    "    \n",
    "    # Convert to actual datetime\n",
    "    checkin_datetime = datetime(int(checkin_date[0]), int(checkin_date[1]), \n",
    "                                int(checkin_date[2]), int(checkin_time[0]), int(checkin_time[1])) \\\n",
    "                        + timedelta(minutes = -time_offset)\n",
    "    checkin_datetime = checkin_datetime.replace(year=2012, month=1, day=1)\n",
    "\n",
    "    dt = checkin_datetime.isoformat()\n",
    "    csv_write_object.writerow({\"Time\": dt, \"latitude\": round(docs.latitude[i],6), \"longitude\": round(docs.longitude[i],6)})\n",
    "\n",
    "# Clean up connection to the database\n",
    "connection.close()\n",
    "f.close()"
   ]
  },
  {
   "cell_type": "code",
   "execution_count": null,
   "metadata": {
    "collapsed": true
   },
   "outputs": [],
   "source": []
  }
 ],
 "metadata": {
  "kernelspec": {
   "display_name": "Python 2",
   "language": "python",
   "name": "python2"
  },
  "language_info": {
   "codemirror_mode": {
    "name": "ipython",
    "version": 2
   },
   "file_extension": ".py",
   "mimetype": "text/x-python",
   "name": "python",
   "nbconvert_exporter": "python",
   "pygments_lexer": "ipython2",
   "version": "2.7.10"
  }
 },
 "nbformat": 4,
 "nbformat_minor": 0
}
